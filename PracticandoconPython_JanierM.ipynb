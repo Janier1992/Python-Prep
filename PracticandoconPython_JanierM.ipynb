{
  "nbformat": 4,
  "nbformat_minor": 0,
  "metadata": {
    "colab": {
      "provenance": [],
      "authorship_tag": "ABX9TyO/EQMBT2QefJQTuGD3COOz",
      "include_colab_link": true
    },
    "kernelspec": {
      "name": "python3",
      "display_name": "Python 3"
    },
    "language_info": {
      "name": "python"
    }
  },
  "cells": [
    {
      "cell_type": "markdown",
      "metadata": {
        "id": "view-in-github",
        "colab_type": "text"
      },
      "source": [
        "<a href=\"https://colab.research.google.com/github/Janier1992/Python-Prep/blob/main/PracticandoconPython_JanierM.ipynb\" target=\"_parent\"><img src=\"https://colab.research.google.com/assets/colab-badge.svg\" alt=\"Open In Colab\"/></a>"
      ]
    },
    {
      "cell_type": "markdown",
      "source": [
        "# ***Actividad 6***\n",
        "# ***Ciencia de datos en acción - Fase 2 (Practicando con Python)***"
      ],
      "metadata": {
        "id": "24KeGzHQmm5U"
      }
    },
    {
      "cell_type": "markdown",
      "source": [
        "**Ejercicio 1**\n",
        "\n",
        "Escribir un programa en Python que declare una lista y la vaya llenando de números hasta\n",
        "que introduzcamos un número negativo. Entonces se debe imprimir el vector (sólo los\n",
        "valores introducidos).\n"
      ],
      "metadata": {
        "id": "XUIKlBzomayk"
      }
    },
    {
      "cell_type": "code",
      "source": [
        "import pandas as pd\n",
        "import numpy as np\n",
        "import matplotlib.pyplot as plt\n",
        "import random\n",
        "import tweepy # Libreria que se podía usar en el punto #5 pero no se realiza porque esta libreria ya no funciona"
      ],
      "metadata": {
        "id": "gij6wQihq7mZ"
      },
      "execution_count": 22,
      "outputs": []
    },
    {
      "cell_type": "code",
      "source": [
        "# Lista de numeros\n",
        "numeros = []\n",
        "\n",
        "while True:\n",
        "    numero = int(input(\"Ingrese un número (ingrese un número negativo para terminar): \"))\n",
        "    if numero < 0:\n",
        "        break\n",
        "    numeros.append(numero)\n",
        "\n",
        "print(\"Los números ingresados son:\", numeros)\n",
        "\n",
        "\n",
        "\n",
        "\n"
      ],
      "metadata": {
        "id": "CEXTiIw-mlIi"
      },
      "execution_count": null,
      "outputs": []
    },
    {
      "cell_type": "markdown",
      "source": [
        "**Ejercicio 2**\n",
        "\n",
        "Escribir un programa en Python que declare tres listas ‘lista1’, ‘lista2’ y ‘lista3’ de cinco\n",
        "enteros cada uno, pida valores para ‘lista1’ y ‘lista2’ y calcule lista3=lista1+lista2.\n"
      ],
      "metadata": {
        "id": "eKgPm0a_qOkP"
      }
    },
    {
      "cell_type": "code",
      "source": [
        "# Declarar las listas solicitadas\n",
        "\n",
        "lista1 = []\n",
        "lista2 = []\n",
        "lista3 = []\n",
        "\n",
        "\n",
        "# Solicitar los valores para lista1\n",
        "print(\"Ingrese 5 números para lista1:\")\n",
        "for i in range(5):\n",
        "    numero = int(input(f\"Ingrese el número {i+1}: \"))\n",
        "    lista1.append(numero)\n",
        "\n",
        "\n",
        "# Solicitar los valores para lista2\n",
        "print(\"\\nIngrese 5 números para lista2:\")\n",
        "for i in range(5):\n",
        "    numero = int(input(f\"Ingrese el número {i+1}: \"))\n",
        "    lista2.append(numero)\n",
        "\n",
        "# Calcular lista3 como la suma de lista1 y lista2\n",
        "for i in range(5):\n",
        "    lista3.append(lista1[i] + lista2[i])\n",
        "\n",
        "# Mostrar el resultado\n",
        "print(f\"\\nEl resultado de lista1 + lista2 es:\", lista3)\n"
      ],
      "metadata": {
        "id": "UBRwSj9sqVLo"
      },
      "execution_count": null,
      "outputs": []
    },
    {
      "cell_type": "markdown",
      "source": [
        "**Ejercicio 3**\n",
        "\n",
        "Escribir un programa en Python que guarde la temperatura mínima y máxima de los\n",
        "últimos 5 días. El programa debe recibir la información, almacenarla y mostrar:\n",
        "\n",
        "La temperatura media de cada día\n",
        "\n",
        "Los días con menor temperatura\n",
        "\n",
        "Después de almacenar la información de los 5 días, el programa debe recinir una temperatura más por teclado y mostrar los días cuya temperatura máxima coincide con ella. si no existe ningún día se muestra un mensaje de información."
      ],
      "metadata": {
        "id": "GiHUEmn-r9Tm"
      }
    },
    {
      "cell_type": "code",
      "source": [
        "# Almacenamiento de las temperaturas mínimas y máximas de los últimos 5 días\n",
        "\n",
        "temperaturas_minimas = []\n",
        "temperaturas_maximas = []\n",
        "\n",
        "# Registro de las temperaturas de los últimos 5 días\n",
        "for i in range(5):\n",
        "    minima = float(input(f\"Ingrese la temperatura mínima del día {i+1}: \"))\n",
        "    maxima = float(input(f\"Ingrese la temperatura máxima del día {i+1}: \"))\n",
        "    temperaturas_minimas.append(minima)\n",
        "    temperaturas_maximas.append(maxima)\n",
        "\n",
        "# Cálculo de la temperatura media de cada día\n",
        "temperaturas_medias = []\n",
        "for i in range(5):\n",
        "    media = (temperaturas_minimas[i] + temperaturas_maximas[i]) / 2\n",
        "    temperaturas_medias.append(media)\n",
        "\n",
        "# Días con menor temperatura\n",
        "menor_temperatura = min(temperaturas_medias)\n",
        "dias_menor_temperatura = []\n",
        "for i in range(5):\n",
        "    if temperaturas_medias[i] == menor_temperatura:\n",
        "        dias_menor_temperatura.append(i+1)\n",
        "\n",
        "# Impresión de resultados\n",
        "print(\"\\nTemperatura media de cada día:\", temperaturas_medias)\n",
        "print(\"Días con menor temperatura:\", dias_menor_temperatura)\n",
        "\n",
        "# Registro de una nueva temperatura\n",
        "nueva_temperatura = float(input(\"\\nIngrese una nueva temperatura: \"))\n",
        "\n",
        "# Días cuya temperatura máxima coincide con la nueva temperatura\n",
        "dias_coincidencia = []\n",
        "for i in range(5):\n",
        "    if temperaturas_maximas[i] == nueva_temperatura:\n",
        "        dias_coincidencia.append(i+1)\n",
        "\n",
        "# Impresión de resultados\n",
        "if len(dias_coincidencia) > 0:\n",
        "    print(f\"\\nLos días cuya temperatura máxima coincide con {nueva_temperatura} son:\", dias_coincidencia)\n",
        "else:\n",
        "    print(f\"\\nNo existe ningún día cuya temperatura máxima coincida con {nueva_temperatura}\")\n"
      ],
      "metadata": {
        "id": "H3IgSGo-sEZu"
      },
      "execution_count": null,
      "outputs": []
    },
    {
      "cell_type": "markdown",
      "source": [
        "**Ejercicio 4**\n",
        "\n",
        "Crea un programa en Python que permita adivinar un número. La aplicación genera un número aleatorio del 1 al 100.\n",
        "A continuación, va pidiendo números y **va respondiendo si el número a adivinar es mayor o menor que el introducido**, así como el número de intentos que quedan, se contarán con 10 intentos para adivinar el número). El programa termina cuando se acierta el número y debe indicar en que intento fue acertado, si se llega al límite de intentos, el programa debe mostrar que se había generado."
      ],
      "metadata": {
        "id": "bsbuyJSPtrlX"
      }
    },
    {
      "cell_type": "code",
      "source": [
        "# Para este ejercicio se hace uso de la libreria 'Random'\n",
        "# Generar un número aleatorio entre 1 y 100\n",
        "numero_adivinar = random.randint(1, 100)\n",
        "\n",
        "# Inicializar variables\n",
        "intentos = 10\n",
        "adivinado = False\n",
        "\n",
        "# Bucle principal del juego\n",
        "while intentos > 0 and not adivinado:\n",
        "    # Pedir un número al usuario\n",
        "    numero_usuario = int(input(f\"Intento {intentos}: Ingrese un número (1-100): \"))\n",
        "\n",
        "    # Comprobar si el número es correcto\n",
        "    if numero_usuario == numero_adivinar:\n",
        "        adivinado = True\n",
        "        print(f\"\\n¡Felicidades! Adivinaste el número en {intentos} intentos.\")\n",
        "    elif numero_usuario < numero_adivinar:\n",
        "        print(f\"El número a adivinar es mayor que {numero_usuario}.\")\n",
        "    else:\n",
        "        print(f\"El número a adivinar es menor que {numero_usuario}.\")\n",
        "\n",
        "    # Restar un intento\n",
        "    intentos -= 1\n",
        "\n",
        "# Si no se adivina el número, mostrar el número generado\n",
        "if not adivinado:\n",
        "    print(f\"\\nSe acabaron los intentos. El número a adivinar era {numero_adivinar}.\")\n"
      ],
      "metadata": {
        "id": "nYzrrLMtwlb4"
      },
      "execution_count": null,
      "outputs": []
    },
    {
      "cell_type": "code",
      "source": [],
      "metadata": {
        "id": "Er6FC_zayvGG"
      },
      "execution_count": null,
      "outputs": []
    },
    {
      "cell_type": "markdown",
      "source": [
        "**Ejercicio 5**\n",
        "\n",
        "Para finalizar esta actividad, el estudiante creará un programa en Python que permite conectarse a Twitter y analizar los últimos 20 twitts de un usuario elegido para identificar algún patrón en los twitts tomados. Lo que se busca con el ejercicio es que el estudiante se familiarice con tweepy (API – Twitter), la cual nos permitirá conectarnos y hacer queries en esta red social.\n",
        "Se debe tener en cuenta que Twitter tiene ciertas restricciones que deben ser consideradas,\n",
        "estas son:\n",
        "● https://developer.twitter.com/en/developer-terms/agreement-and-policy\n",
        "● https://developer.twitter.com/en/docs/basics/rate-limiting\n",
        "\n",
        "***ESTE ULTIMO PUNTO NO SE REALIZA POR INDICACION DEL PROFESOR. TAL INDICACION ES PORQUE LA LIBRERIA A USAR ES MUY VIEJA Y PUEDE GENERAR ERRORES AL EJECUTAR EL CODIGO***"
      ],
      "metadata": {
        "id": "oDfPnMkCyyCH"
      }
    }
  ]
}