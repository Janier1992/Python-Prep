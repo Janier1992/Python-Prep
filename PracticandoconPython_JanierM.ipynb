{
  "nbformat": 4,
  "nbformat_minor": 0,
  "metadata": {
    "colab": {
      "provenance": [],
      "authorship_tag": "ABX9TyN8xPQXQK+aXAVZ8edwk1hi",
      "include_colab_link": true
    },
    "kernelspec": {
      "name": "python3",
      "display_name": "Python 3"
    },
    "language_info": {
      "name": "python"
    }
  },
  "cells": [
    {
      "cell_type": "markdown",
      "metadata": {
        "id": "view-in-github",
        "colab_type": "text"
      },
      "source": [
        "<a href=\"https://colab.research.google.com/github/Janier1992/Python-Prep/blob/main/PracticandoconPython_JanierM.ipynb\" target=\"_parent\"><img src=\"https://colab.research.google.com/assets/colab-badge.svg\" alt=\"Open In Colab\"/></a>"
      ]
    },
    {
      "cell_type": "markdown",
      "source": [
        "# ***Actividad 6***\n",
        "# ***Ciencia de datos en acción - Fase 2 (Practicando con Python)***"
      ],
      "metadata": {
        "id": "24KeGzHQmm5U"
      }
    },
    {
      "cell_type": "markdown",
      "source": [
        "**Ejercicio 1**\n",
        "\n",
        "Escribir un programa en Python que declare una lista y la vaya llenando de números hasta\n",
        "que introduzcamos un número negativo. Entonces se debe imprimir el vector (sólo los\n",
        "valores introducidos).\n"
      ],
      "metadata": {
        "id": "XUIKlBzomayk"
      }
    },
    {
      "cell_type": "code",
      "source": [
        "import pandas as pd\n",
        "import numpy as np\n",
        "import matplotlib.pyplot as plt\n",
        "import random\n",
        "import tweepy # Libreria que se podía usar en el punto #5 pero no se realiza porque esta libreria ya no funciona"
      ],
      "metadata": {
        "id": "gij6wQihq7mZ"
      },
      "execution_count": 1,
      "outputs": []
    },
    {
      "cell_type": "code",
      "source": [
        "# Lista de numeros\n",
        "numeros = []\n",
        "\n",
        "while True:\n",
        "    numero = int(input(\"Ingrese un número negativo para terminar): \"))\n",
        "    if numero < 0:\n",
        "        break\n",
        "    numeros.append(numero)\n",
        "\n",
        "print(\"Los números ingresados son:\", numeros)\n",
        "\n",
        "\n",
        "\n",
        "\n"
      ],
      "metadata": {
        "id": "CEXTiIw-mlIi",
        "outputId": "5171c0b5-35d7-4ab4-fbda-2a7b45f6d532",
        "colab": {
          "base_uri": "https://localhost:8080/"
        }
      },
      "execution_count": 5,
      "outputs": [
        {
          "output_type": "stream",
          "name": "stdout",
          "text": [
            "Ingrese un número negativo para terminar): 5\n",
            "Ingrese un número negativo para terminar): 6\n",
            "Ingrese un número negativo para terminar): 7\n",
            "Ingrese un número negativo para terminar): -3\n",
            "Los números ingresados son: [5, 6, 7]\n"
          ]
        }
      ]
    },
    {
      "cell_type": "markdown",
      "source": [
        "**Ejercicio 2**\n",
        "\n",
        "Escribir un programa en Python que declare tres listas ‘lista1’, ‘lista2’ y ‘lista3’ de cinco\n",
        "enteros cada uno, pida valores para ‘lista1’ y ‘lista2’ y calcule lista3=lista1+lista2.\n"
      ],
      "metadata": {
        "id": "eKgPm0a_qOkP"
      }
    },
    {
      "cell_type": "code",
      "source": [
        "# Declarar las listas solicitadas\n",
        "\n",
        "lista1 = []\n",
        "lista2 = []\n",
        "lista3 = []\n",
        "\n",
        "\n",
        "# Solicitar los valores para lista1\n",
        "print(\"Ingrese 5 números para lista1:\")\n",
        "for i in range(5):\n",
        "    numero = int(input(f\"Ingrese el número {i+1}: \"))\n",
        "    lista1.append(numero)\n",
        "\n",
        "\n",
        "# Solicitar los valores para lista2\n",
        "print(\"\\nIngrese 5 números para lista2:\")\n",
        "for i in range(5):\n",
        "    numero = int(input(f\"Ingrese el número {i+1}: \"))\n",
        "    lista2.append(numero)\n",
        "\n",
        "# Calcular lista3 como la suma de lista1 y lista2\n",
        "for i in range(5):\n",
        "    lista3.append(lista1[i] + lista2[i])\n",
        "\n",
        "# Mostrar el resultado\n",
        "print(f\"\\nEl resultado de lista1 + lista2 es:\", lista3)\n"
      ],
      "metadata": {
        "id": "UBRwSj9sqVLo",
        "outputId": "a1f9cbd9-d46c-4ce9-e355-09d13659ea99",
        "colab": {
          "base_uri": "https://localhost:8080/"
        }
      },
      "execution_count": 6,
      "outputs": [
        {
          "output_type": "stream",
          "name": "stdout",
          "text": [
            "Ingrese 5 números para lista1:\n",
            "Ingrese el número 1: 3\n",
            "Ingrese el número 2: 5\n",
            "Ingrese el número 3: 2\n",
            "Ingrese el número 4: 5\n",
            "Ingrese el número 5: 6\n",
            "\n",
            "Ingrese 5 números para lista2:\n",
            "Ingrese el número 1: 3\n",
            "Ingrese el número 2: 45\n",
            "Ingrese el número 3: 6\n",
            "Ingrese el número 4: 7\n",
            "Ingrese el número 5: 2\n",
            "\n",
            "El resultado de lista1 + lista2 es: [6, 50, 8, 12, 8]\n"
          ]
        }
      ]
    },
    {
      "cell_type": "markdown",
      "source": [
        "**Ejercicio 3**\n",
        "\n",
        "Escribir un programa en Python que guarde la temperatura mínima y máxima de los\n",
        "últimos 5 días. El programa debe recibir la información, almacenarla y mostrar:\n",
        "\n",
        "La temperatura media de cada día\n",
        "\n",
        "Los días con menor temperatura\n",
        "\n",
        "Después de almacenar la información de los 5 días, el programa debe recinir una temperatura más por teclado y mostrar los días cuya temperatura máxima coincide con ella. si no existe ningún día se muestra un mensaje de información."
      ],
      "metadata": {
        "id": "GiHUEmn-r9Tm"
      }
    },
    {
      "cell_type": "code",
      "source": [
        "# Almacenamiento de las temperaturas mínimas y máximas de los últimos 5 días\n",
        "\n",
        "temperaturas_minimas = []\n",
        "temperaturas_maximas = []\n",
        "\n",
        "# Registro de las temperaturas de los últimos 5 días\n",
        "for i in range(5):\n",
        "    minima = float(input(f\"Ingrese la temperatura mínima del día {i+1}: \"))\n",
        "    maxima = float(input(f\"Ingrese la temperatura máxima del día {i+1}: \"))\n",
        "    temperaturas_minimas.append(minima)\n",
        "    temperaturas_maximas.append(maxima)\n",
        "\n",
        "# Cálculo de la temperatura media de cada día\n",
        "temperaturas_medias = []\n",
        "for i in range(5):\n",
        "    media = (temperaturas_minimas[i] + temperaturas_maximas[i]) / 2\n",
        "    temperaturas_medias.append(media)\n",
        "\n",
        "# Días con menor temperatura\n",
        "menor_temperatura = min(temperaturas_medias)\n",
        "dias_menor_temperatura = []\n",
        "for i in range(5):\n",
        "    if temperaturas_medias[i] == menor_temperatura:\n",
        "        dias_menor_temperatura.append(i+1)\n",
        "\n",
        "# Impresión de resultados\n",
        "print(\"\\nTemperatura media de cada día:\", temperaturas_medias)\n",
        "print(\"Días con menor temperatura:\", dias_menor_temperatura)\n",
        "\n",
        "# Registro de una nueva temperatura\n",
        "nueva_temperatura = float(input(\"\\nIngrese una nueva temperatura: \"))\n",
        "\n",
        "# Días cuya temperatura máxima coincide con la nueva temperatura\n",
        "dias_coincidencia = []\n",
        "for i in range(5):\n",
        "    if temperaturas_maximas[i] == nueva_temperatura:\n",
        "        dias_coincidencia.append(i+1)\n",
        "\n",
        "# Impresión de resultados\n",
        "if len(dias_coincidencia) > 0:\n",
        "    print(f\"\\nLos días cuya temperatura máxima coincide con {nueva_temperatura} son:\", dias_coincidencia)\n",
        "else:\n",
        "    print(f\"\\nNo existe ningún día cuya temperatura máxima coincida con {nueva_temperatura}\")\n"
      ],
      "metadata": {
        "id": "H3IgSGo-sEZu",
        "outputId": "fb8879be-b091-4504-a010-d083736758dc",
        "colab": {
          "base_uri": "https://localhost:8080/"
        }
      },
      "execution_count": 7,
      "outputs": [
        {
          "output_type": "stream",
          "name": "stdout",
          "text": [
            "Ingrese la temperatura mínima del día 1: 12\n",
            "Ingrese la temperatura máxima del día 1: 23\n",
            "Ingrese la temperatura mínima del día 2: 14\n",
            "Ingrese la temperatura máxima del día 2: 25\n",
            "Ingrese la temperatura mínima del día 3: 16\n",
            "Ingrese la temperatura máxima del día 3: 28\n",
            "Ingrese la temperatura mínima del día 4: 16\n",
            "Ingrese la temperatura máxima del día 4: 30\n",
            "Ingrese la temperatura mínima del día 5: 27\n",
            "Ingrese la temperatura máxima del día 5: 34\n",
            "\n",
            "Temperatura media de cada día: [17.5, 19.5, 22.0, 23.0, 30.5]\n",
            "Días con menor temperatura: [1]\n",
            "\n",
            "Ingrese una nueva temperatura: 42\n",
            "\n",
            "No existe ningún día cuya temperatura máxima coincida con 42.0\n"
          ]
        }
      ]
    },
    {
      "cell_type": "markdown",
      "source": [
        "**Ejercicio 4**\n",
        "\n",
        "Crea un programa en Python que permita adivinar un número. La aplicación genera un número aleatorio del 1 al 100.\n",
        "A continuación, va pidiendo números y **va respondiendo si el número a adivinar es mayor o menor que el introducido**, así como el número de intentos que quedan, se contarán con 10 intentos para adivinar el número). El programa termina cuando se acierta el número y debe indicar en que intento fue acertado, si se llega al límite de intentos, el programa debe mostrar que se había generado."
      ],
      "metadata": {
        "id": "bsbuyJSPtrlX"
      }
    },
    {
      "cell_type": "code",
      "source": [
        "# Para este ejercicio se hace uso de la libreria 'Random'\n",
        "# Generar un número aleatorio entre 1 y 100\n",
        "numero_adivinar = random.randint(1, 100)\n",
        "\n",
        "# Inicializar variables\n",
        "intentos = 10\n",
        "adivinado = False\n",
        "\n",
        "# Bucle principal del juego\n",
        "while intentos > 0 and not adivinado:\n",
        "    # Pedir un número al usuario\n",
        "    numero_usuario = int(input(f\"Intento {intentos}: Ingrese un número (1-100): \"))\n",
        "\n",
        "    # Comprobar si el número es correcto\n",
        "    if numero_usuario == numero_adivinar:\n",
        "        adivinado = True\n",
        "        print(f\"\\n¡Felicidades! Adivinaste el número en {intentos} intentos.\")\n",
        "    elif numero_usuario < numero_adivinar:\n",
        "        print(f\"El número a adivinar es mayor que {numero_usuario}.\")\n",
        "    else:\n",
        "        print(f\"El número a adivinar es menor que {numero_usuario}.\")\n",
        "\n",
        "    # Restar un intento\n",
        "    intentos -= 1\n",
        "\n",
        "# Si no se adivina el número, mostrar el número generado\n",
        "if not adivinado:\n",
        "    print(f\"\\nSe acabaron los intentos. El número a adivinar era {numero_adivinar}.\")\n"
      ],
      "metadata": {
        "id": "nYzrrLMtwlb4",
        "outputId": "bb9936b5-f3be-4db8-ee26-462ae4d8f27a",
        "colab": {
          "base_uri": "https://localhost:8080/"
        }
      },
      "execution_count": 8,
      "outputs": [
        {
          "output_type": "stream",
          "name": "stdout",
          "text": [
            "Intento 10: Ingrese un número (1-100): 2\n",
            "El número a adivinar es mayor que 2.\n",
            "Intento 9: Ingrese un número (1-100): 3\n",
            "El número a adivinar es mayor que 3.\n",
            "Intento 8: Ingrese un número (1-100): 4\n",
            "El número a adivinar es mayor que 4.\n",
            "Intento 7: Ingrese un número (1-100): 5\n",
            "El número a adivinar es mayor que 5.\n",
            "Intento 6: Ingrese un número (1-100): 6\n",
            "El número a adivinar es mayor que 6.\n",
            "Intento 5: Ingrese un número (1-100): 7\n",
            "El número a adivinar es mayor que 7.\n",
            "Intento 4: Ingrese un número (1-100): 8\n",
            "El número a adivinar es mayor que 8.\n",
            "Intento 3: Ingrese un número (1-100): 9\n",
            "El número a adivinar es mayor que 9.\n",
            "Intento 2: Ingrese un número (1-100): 10\n",
            "El número a adivinar es mayor que 10.\n",
            "Intento 1: Ingrese un número (1-100): 12\n",
            "El número a adivinar es mayor que 12.\n",
            "\n",
            "Se acabaron los intentos. El número a adivinar era 14.\n"
          ]
        }
      ]
    },
    {
      "cell_type": "markdown",
      "source": [
        "**Ejercicio 5**\n",
        "\n",
        "Para finalizar esta actividad, el estudiante creará un programa en Python que permite conectarse a Twitter y analizar los últimos 20 twitts de un usuario elegido para identificar algún patrón en los twitts tomados. Lo que se busca con el ejercicio es que el estudiante se familiarice con tweepy (API – Twitter), la cual nos permitirá conectarnos y hacer queries en esta red social.\n",
        "Se debe tener en cuenta que Twitter tiene ciertas restricciones que deben ser consideradas,\n",
        "estas son:\n",
        "● https://developer.twitter.com/en/developer-terms/agreement-and-policy\n",
        "● https://developer.twitter.com/en/docs/basics/rate-limiting\n",
        "\n",
        "***ESTE ULTIMO PUNTO NO SE REALIZA POR INDICACION DEL PROFESOR. TAL INDICACION ES PORQUE LA LIBRERIA A USAR ES MUY VIEJA Y PUEDE GENERAR ERRORES AL EJECUTAR EL CODIGO***"
      ],
      "metadata": {
        "id": "oDfPnMkCyyCH"
      }
    }
  ]
}